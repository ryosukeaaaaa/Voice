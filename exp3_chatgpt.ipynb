{
 "cells": [
  {
   "cell_type": "markdown",
   "metadata": {},
   "source": [
    "# 演習３：ChatGPTを用いた雑談システム\n",
    "\n",
    "ChatGPTのAPIを用いて雑談対話を実装します。\n",
    "ただし、ライセンスキーは各自で取得し、アクセス料金も自己責任とします。"
   ]
  },
  {
   "cell_type": "markdown",
   "metadata": {},
   "source": [
    "## 必要なライブラリのインストール\n",
    "\n",
    "はじめに、必要となるライブラリをインストールします。ここではpipを使ってインストールします。"
   ]
  },
  {
   "cell_type": "code",
   "execution_count": 1,
   "metadata": {
    "scrolled": true
   },
   "outputs": [
    {
     "name": "stdout",
     "output_type": "stream",
     "text": [
      "Collecting openai\n",
      "  Downloading openai-1.30.4-py3-none-any.whl (320 kB)\n",
      "     -------------------------------------- 320.6/320.6 kB 4.9 MB/s eta 0:00:00\n",
      "Requirement already satisfied: anyio<5,>=3.5.0 in c:\\users\\inoue\\anaconda3\\envs\\exp4-audio\\lib\\site-packages (from openai) (3.5.0)\n",
      "Collecting typing-extensions<5,>=4.7\n",
      "  Downloading typing_extensions-4.12.0-py3-none-any.whl (37 kB)\n",
      "Requirement already satisfied: tqdm>4 in c:\\users\\inoue\\anaconda3\\envs\\exp4-audio\\lib\\site-packages (from openai) (4.64.1)\n",
      "Collecting distro<2,>=1.7.0\n",
      "  Using cached distro-1.9.0-py3-none-any.whl (20 kB)\n",
      "Collecting httpx<1,>=0.23.0\n",
      "  Downloading httpx-0.27.0-py3-none-any.whl (75 kB)\n",
      "     ---------------------------------------- 75.6/75.6 kB ? eta 0:00:00\n",
      "Collecting pydantic<3,>=1.9.0\n",
      "  Downloading pydantic-2.7.2-py3-none-any.whl (409 kB)\n",
      "     -------------------------------------- 409.5/409.5 kB 8.5 MB/s eta 0:00:00\n",
      "Requirement already satisfied: sniffio in c:\\users\\inoue\\anaconda3\\envs\\exp4-audio\\lib\\site-packages (from openai) (1.2.0)\n",
      "Requirement already satisfied: idna>=2.8 in c:\\users\\inoue\\anaconda3\\envs\\exp4-audio\\lib\\site-packages (from anyio<5,>=3.5.0->openai) (3.4)\n",
      "Requirement already satisfied: certifi in c:\\users\\inoue\\anaconda3\\envs\\exp4-audio\\lib\\site-packages (from httpx<1,>=0.23.0->openai) (2022.12.7)\n",
      "Collecting httpcore==1.*\n",
      "  Downloading httpcore-1.0.5-py3-none-any.whl (77 kB)\n",
      "     ---------------------------------------- 77.9/77.9 kB 4.5 MB/s eta 0:00:00\n",
      "Collecting h11<0.15,>=0.13\n",
      "  Using cached h11-0.14.0-py3-none-any.whl (58 kB)\n",
      "Collecting pydantic-core==2.18.3\n",
      "  Downloading pydantic_core-2.18.3-cp38-none-win_amd64.whl (1.9 MB)\n",
      "     ---------------------------------------- 1.9/1.9 MB 8.0 MB/s eta 0:00:00\n",
      "Collecting annotated-types>=0.4.0\n",
      "  Downloading annotated_types-0.7.0-py3-none-any.whl (13 kB)\n",
      "Requirement already satisfied: colorama in c:\\users\\inoue\\anaconda3\\envs\\exp4-audio\\lib\\site-packages (from tqdm>4->openai) (0.4.5)\n",
      "Installing collected packages: typing-extensions, h11, distro, pydantic-core, httpcore, annotated-types, pydantic, httpx, openai\n",
      "  Attempting uninstall: typing-extensions\n",
      "    Found existing installation: typing_extensions 4.4.0\n",
      "    Uninstalling typing_extensions-4.4.0:\n",
      "      Successfully uninstalled typing_extensions-4.4.0\n",
      "Successfully installed annotated-types-0.7.0 distro-1.9.0 h11-0.14.0 httpcore-1.0.5 httpx-0.27.0 openai-1.30.4 pydantic-2.7.2 pydantic-core-2.18.3 typing-extensions-4.12.0\n",
      "Requirement already satisfied: pyaudio in c:\\users\\inoue\\anaconda3\\envs\\exp4-audio\\lib\\site-packages (0.2.11)\n",
      "Collecting SpeechRecognition\n",
      "  Using cached SpeechRecognition-3.10.4-py2.py3-none-any.whl (32.8 MB)\n",
      "Requirement already satisfied: typing-extensions in c:\\users\\inoue\\anaconda3\\envs\\exp4-audio\\lib\\site-packages (from SpeechRecognition) (4.12.0)\n",
      "Requirement already satisfied: requests>=2.26.0 in c:\\users\\inoue\\anaconda3\\envs\\exp4-audio\\lib\\site-packages (from SpeechRecognition) (2.28.1)\n",
      "Requirement already satisfied: charset-normalizer<3,>=2 in c:\\users\\inoue\\anaconda3\\envs\\exp4-audio\\lib\\site-packages (from requests>=2.26.0->SpeechRecognition) (2.0.4)\n",
      "Requirement already satisfied: certifi>=2017.4.17 in c:\\users\\inoue\\anaconda3\\envs\\exp4-audio\\lib\\site-packages (from requests>=2.26.0->SpeechRecognition) (2022.12.7)\n",
      "Requirement already satisfied: urllib3<1.27,>=1.21.1 in c:\\users\\inoue\\anaconda3\\envs\\exp4-audio\\lib\\site-packages (from requests>=2.26.0->SpeechRecognition) (1.26.13)\n",
      "Requirement already satisfied: idna<4,>=2.5 in c:\\users\\inoue\\anaconda3\\envs\\exp4-audio\\lib\\site-packages (from requests>=2.26.0->SpeechRecognition) (3.4)\n",
      "Installing collected packages: SpeechRecognition\n",
      "Successfully installed SpeechRecognition-3.10.4\n",
      "Collecting gTTS\n",
      "  Downloading gTTS-2.5.1-py3-none-any.whl (29 kB)\n",
      "Requirement already satisfied: click<8.2,>=7.1 in c:\\users\\inoue\\anaconda3\\envs\\exp4-audio\\lib\\site-packages (from gTTS) (8.0.4)\n",
      "Requirement already satisfied: requests<3,>=2.27 in c:\\users\\inoue\\anaconda3\\envs\\exp4-audio\\lib\\site-packages (from gTTS) (2.28.1)\n",
      "Requirement already satisfied: colorama in c:\\users\\inoue\\anaconda3\\envs\\exp4-audio\\lib\\site-packages (from click<8.2,>=7.1->gTTS) (0.4.5)\n",
      "Requirement already satisfied: charset-normalizer<3,>=2 in c:\\users\\inoue\\anaconda3\\envs\\exp4-audio\\lib\\site-packages (from requests<3,>=2.27->gTTS) (2.0.4)\n",
      "Requirement already satisfied: urllib3<1.27,>=1.21.1 in c:\\users\\inoue\\anaconda3\\envs\\exp4-audio\\lib\\site-packages (from requests<3,>=2.27->gTTS) (1.26.13)\n",
      "Requirement already satisfied: idna<4,>=2.5 in c:\\users\\inoue\\anaconda3\\envs\\exp4-audio\\lib\\site-packages (from requests<3,>=2.27->gTTS) (3.4)\n",
      "Requirement already satisfied: certifi>=2017.4.17 in c:\\users\\inoue\\anaconda3\\envs\\exp4-audio\\lib\\site-packages (from requests<3,>=2.27->gTTS) (2022.12.7)\n",
      "Installing collected packages: gTTS\n",
      "Successfully installed gTTS-2.5.1\n",
      "Collecting pygame\n",
      "  Downloading pygame-2.5.2-cp38-cp38-win_amd64.whl (10.8 MB)\n",
      "     --------------------------------------- 10.8/10.8 MB 65.1 MB/s eta 0:00:00\n",
      "Installing collected packages: pygame\n",
      "Successfully installed pygame-2.5.2\n"
     ]
    }
   ],
   "source": [
    "# OpenAIのAPIにアクセスするためのライブラリ\n",
    "! pip install openai\n",
    "\n",
    "# 音声認識\n",
    "! pip install pyaudio\n",
    "! pip install SpeechRecognition\n",
    "\n",
    "# 音声合成\n",
    "! pip install gTTS\n",
    "! pip install pygame"
   ]
  },
  {
   "cell_type": "markdown",
   "metadata": {},
   "source": [
    "## Step 1: OpenAI APIのテスト\n",
    "\n",
    "OpenAIが提供するAPIをテストします。"
   ]
  },
  {
   "cell_type": "code",
   "execution_count": 3,
   "metadata": {},
   "outputs": [],
   "source": [
    "# 必要なラブラリを読み込む\n",
    "import os\n",
    "import openai"
   ]
  },
  {
   "cell_type": "markdown",
   "metadata": {},
   "source": [
    "アクセスキーを設定します。アクセスキーは各自で取得してください。ここでは環境変数 \"OPEN_API_KEY\" にアクセスキーが設定されているとします。"
   ]
  },
  {
   "cell_type": "code",
   "execution_count": 4,
   "metadata": {},
   "outputs": [],
   "source": [
    "# OpenAIのAPIのアクセスキーを設定\n",
    "openai.api_key = os.getenv(\"OPENAI_API_KEY\")\n",
    "ENGINE_NAME = 'gpt-4o'   # GPTのエンジン名"
   ]
  },
  {
   "cell_type": "code",
   "execution_count": null,
   "metadata": {},
   "outputs": [],
   "source": [
    "# 入力を受け付けて応答を生成する\n",
    "user_input = input()\n",
    "\n",
    "# OpenAIのAPIを呼び出して、応答を生成する\n",
    "# 入力は messaages の中に、role と content の２つの要素を持つ辞書型のリストとして与える\n",
    "# その際、ユーザ発話は role に \"user\"、システム応答は role に \"agent\" を与える\n",
    "completion = openai.ChatCompletion.create(\n",
    "    engine = ENGINE_NAME,\n",
    "    messages=[\n",
    "        {\"role\": \"user\", \"content\": user_input}\n",
    "    ]\n",
    ")\n",
    "\n",
    "# 生成された応答を表示する\n",
    "system_response = completion.choices[0].message.content\n",
    "print(\"システム応答：\" + system_response)\n",
    "# 応答を生成する際のトークン数を表示する\n",
    "print(\"トークン数：\" + str(completion.usage.total_tokens))"
   ]
  },
  {
   "cell_type": "code",
   "execution_count": null,
   "metadata": {
    "scrolled": true
   },
   "outputs": [],
   "source": [
    "# 次のユーザ発話を入力する\n",
    "user_input2 = input()\n",
    "\n",
    "# 過去のシステム発話を文脈として追加して応答を生成する\n",
    "# messagesに文脈情報を追加していく\n",
    "completion = openai.ChatCompletion.create(\n",
    "    engine = ENGINE_NAME,\n",
    "    messages=[\n",
    "        {\"role\": \"user\", \"content\": user_input},\n",
    "        {\"role\": \"assistant\", \"content\": system_response},\n",
    "        {\"role\": \"user\", \"content\": user_input2}\n",
    "    ]\n",
    ")\n",
    "\n",
    "# 生成された応答を表示する\n",
    "system_response2 = completion.choices[0].message.content\n",
    "print(\"システム応答：\" + system_response2)\n",
    "# 応答を生成する際のトークン数を表示する\n",
    "print(\"トークン数：\" + str(completion.usage.total_tokens))"
   ]
  },
  {
   "cell_type": "markdown",
   "metadata": {},
   "source": [
    "### Step 2: 音声対話システムとしての統合\n",
    "\n",
    "演習1で実装した方法を用いて、音声対話システムとして動作するように上記の機能を統合します。"
   ]
  },
  {
   "cell_type": "code",
   "execution_count": null,
   "metadata": {},
   "outputs": [],
   "source": [
    "# ライブラリのインポート\n",
    "import speech_recognition as sr\n",
    "from gtts import gTTS\n",
    "import pygame\n",
    "\n",
    "# 音声認識を関数化\n",
    "def get_asr():\n",
    "    \n",
    "    r = sr.Recognizer()\n",
    "    r.pause_threshold = 0.5\n",
    "    \n",
    "    with sr.Microphone() as source:\n",
    "        r.adjust_for_ambient_noise(source) # 背景雑音へ適応する（１秒間）\n",
    "        print(\"どうぞ話してください >> \")\n",
    "        audio = r.listen(source)\n",
    "    \n",
    "    try:\n",
    "        result = r.recognize_google(audio, language=\"ja-JP\")\n",
    "    except sr.UnknownValueError:\n",
    "        result = \"\"\n",
    "    except sr.RequestError as e:\n",
    "        result = \"\"\n",
    "    \n",
    "    return result\n",
    "\n",
    "# 音声合成を関数化\n",
    "def play_tts(text):\n",
    "    \n",
    "    speech = gTTS(text=text, lang=\"ja\")\n",
    "\n",
    "    try:\n",
    "        speech.save(\"./data/test.mp3\")\n",
    "    except Exception as e:\n",
    "        print('ファイル保存エラー')\n",
    "    \n",
    "    pygame.mixer.init()\n",
    "    pygame.mixer.music.load(\"./data/test.mp3\")\n",
    "    pygame.mixer.music.play()\n",
    "\n",
    "    while pygame.mixer.music.get_busy():\n",
    "        pygame.time.Clock().tick(10)\n",
    "\n",
    "    pygame.mixer.music.stop()\n",
    "    pygame.mixer.quit()"
   ]
  },
  {
   "cell_type": "code",
   "execution_count": null,
   "metadata": {},
   "outputs": [],
   "source": [
    "# 入力発話ならびにシステム応答の文脈を入力するためのリスト\n",
    "messages = []\n",
    "\n",
    "# 対話が終了状態に移るまで対話を続ける\n",
    "while True:\n",
    "    \n",
    "    # 音声入力＆音声認識\n",
    "    result_asr_utterance = get_asr()\n",
    "    print(\"ユーザ： \" + result_asr_utterance)\n",
    "    \n",
    "    # 「終了」がユーザ発話に含まれていれば対話を終了\n",
    "    if \"終了\" in result_asr_utterance:\n",
    "        break\n",
    "    \n",
    "    # 応答を生成\n",
    "    messages.append({\"role\": \"user\", \"content\": result_asr_utterance})\n",
    "    completion = openai.ChatCompletion.create(\n",
    "        engine = ENGINE_NAME,\n",
    "        messages=messages\n",
    "    )\n",
    "    \n",
    "    # 生成された応答を再生する\n",
    "    system_utterance = completion.choices[0].message.content\n",
    "    print(\"システム： \" + system_utterance)\n",
    "    play_tts(system_utterance)\n",
    "\n",
    "    # システム応答を文脈として追加\n",
    "    messages.append({\"role\": \"assistant\", \"content\": system_utterance})\n",
    "    \n",
    "    print()\n",
    "\n",
    "# 対話終了\n",
    "print(\"対話終了\")"
   ]
  }
 ],
 "metadata": {
  "kernelspec": {
   "display_name": "Python 3 (ipykernel)",
   "language": "python",
   "name": "python3"
  },
  "language_info": {
   "codemirror_mode": {
    "name": "ipython",
    "version": 3
   },
   "file_extension": ".py",
   "mimetype": "text/x-python",
   "name": "python",
   "nbconvert_exporter": "python",
   "pygments_lexer": "ipython3",
   "version": "3.8.15"
  }
 },
 "nbformat": 4,
 "nbformat_minor": 2
}
