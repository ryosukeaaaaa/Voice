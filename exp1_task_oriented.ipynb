{
 "cells": [
  {
   "cell_type": "markdown",
   "metadata": {},
   "source": [
    "# 演習1：タスク指向システム\n",
    "\n",
    "概要\n",
    "* レストラン案内タスクを行う音声対話システムを作成\n",
    "* 音声認識と音声合成は既存のサービスを使用\n",
    "* 言語理解・対話管理（応答生成を含む）については一から実装\n",
    "\n",
    "目的\n",
    "* pythonを用いてタスク指向の音声対話システムを順番に一通り実装してみることで、理論と実装のギャップを埋める"
   ]
  },
  {
   "cell_type": "markdown",
   "metadata": {},
   "source": [
    "## 必要なライブラリのインストール\n",
    "\n",
    "はじめに、必要となるライブラリをインストールします。ここではpipを使ってインストールしますが、condaでも同様のライブラリをインストールすることができます。ご自身の環境に合わせてインストール方法を適宜変更してください。\n",
    "\n",
    "また、以下の「!」で始まるコマンドは、ターミナル（コマンドプロンプト）で「!」を除いた部分を実行するこを意味します。「!」をつけることで、通常のコマンドをJupyter Notebook経由で実行できるようになります。"
   ]
  },
  {
   "cell_type": "code",
   "execution_count": 1,
   "metadata": {},
   "outputs": [
    {
     "name": "stdout",
     "output_type": "stream",
     "text": [
      "Requirement already satisfied: pyaudio in ./Voice/lib/python3.9/site-packages (0.2.14)\n",
      "Requirement already satisfied: SpeechRecognition in ./Voice/lib/python3.9/site-packages (3.10.4)\n",
      "Requirement already satisfied: requests>=2.26.0 in ./Voice/lib/python3.9/site-packages (from SpeechRecognition) (2.32.3)\n",
      "Requirement already satisfied: typing-extensions in ./Voice/lib/python3.9/site-packages (from SpeechRecognition) (4.12.1)\n",
      "Requirement already satisfied: charset-normalizer<4,>=2 in ./Voice/lib/python3.9/site-packages (from requests>=2.26.0->SpeechRecognition) (3.3.2)\n",
      "Requirement already satisfied: idna<4,>=2.5 in ./Voice/lib/python3.9/site-packages (from requests>=2.26.0->SpeechRecognition) (3.7)\n",
      "Requirement already satisfied: urllib3<3,>=1.21.1 in ./Voice/lib/python3.9/site-packages (from requests>=2.26.0->SpeechRecognition) (2.2.1)\n",
      "Requirement already satisfied: certifi>=2017.4.17 in ./Voice/lib/python3.9/site-packages (from requests>=2.26.0->SpeechRecognition) (2024.6.2)\n",
      "Requirement already satisfied: gTTS in ./Voice/lib/python3.9/site-packages (2.5.1)\n",
      "Requirement already satisfied: requests<3,>=2.27 in ./Voice/lib/python3.9/site-packages (from gTTS) (2.32.3)\n",
      "Requirement already satisfied: click<8.2,>=7.1 in ./Voice/lib/python3.9/site-packages (from gTTS) (8.1.7)\n",
      "Requirement already satisfied: charset-normalizer<4,>=2 in ./Voice/lib/python3.9/site-packages (from requests<3,>=2.27->gTTS) (3.3.2)\n",
      "Requirement already satisfied: idna<4,>=2.5 in ./Voice/lib/python3.9/site-packages (from requests<3,>=2.27->gTTS) (3.7)\n",
      "Requirement already satisfied: urllib3<3,>=1.21.1 in ./Voice/lib/python3.9/site-packages (from requests<3,>=2.27->gTTS) (2.2.1)\n",
      "Requirement already satisfied: certifi>=2017.4.17 in ./Voice/lib/python3.9/site-packages (from requests<3,>=2.27->gTTS) (2024.6.2)\n",
      "Requirement already satisfied: pygame in ./Voice/lib/python3.9/site-packages (2.5.2)\n"
     ]
    }
   ],
   "source": [
    "# 音声認識\n",
    "# Macの場合brew install portaudioを実行してからpyaudioをインストールする\n",
    "! pip install pyaudio\n",
    "! pip install SpeechRecognition\n",
    "\n",
    "# 音声合成\n",
    "! pip install gTTS\n",
    "! pip install pygame"
   ]
  },
  {
   "cell_type": "markdown",
   "metadata": {},
   "source": [
    "## Step 1: 音声認識\n",
    "\n",
    "speech_recognition というライブラリを使用します。このライブラリの内部ではGoogleの音声認識サービスが呼び出されています。したがって、インターネット接続が必要となります。"
   ]
  },
  {
   "cell_type": "code",
   "execution_count": 8,
   "metadata": {},
   "outputs": [
    {
     "name": "stdout",
     "output_type": "stream",
     "text": [
      "どうぞ話してください >> \n",
      "認識開始\n",
      "認識結果:えますきっと クラーケンというですね ソフトなんかを使っていたりします で これは です ね まふりーもあるんですけれども基本的には29$3000円とかそういったところが ですね かかってくる ソフトなんですが 無理のものもあったりするのでこういったものを使ってキットを使っていくというやり方が一般的ですで今回はまこういったですね GI ソフト 使うのもいいんですけれども Microsoft が作っている ビジュアルスタジオコード というですね エディター ソフトがあるんですが これが ですね ギットに対応していますので このエディター ソフトを使ってキットを操作していくというやり方について紹介していきたいと思います\n"
     ]
    }
   ],
   "source": [
    "# ライブラリのインポート \n",
    "import speech_recognition as sr\n",
    "\n",
    "# ライブラリを初期化\n",
    "r = sr.Recognizer()\n",
    "\n",
    "# パラメータの設定\n",
    "# ユーザが発話を止めてから何秒間待つか\n",
    "# この値が大きいとシステムの反応が遅くなる\n",
    "# 逆に小さくすると、反応は早くなるが、ユーザの発話が終了していないのに、システムが割り込んでしまうリスクが高くなる\n",
    "r.pause_threshold = 0.5\n",
    "\n",
    "# デフォルトに設定されたマイクから音声入力を受け付ける\n",
    "# もしうまく動かない場合はマイク設定を確認してください\n",
    "with sr.Microphone() as source:\n",
    "    r.adjust_for_ambient_noise(source) # 背景雑音へ適応する（１秒間）\n",
    "    print(\"どうぞ話してください >> \")\n",
    "    audio = r.listen(source)\n",
    "\n",
    "print(\"認識開始\")\n",
    "\n",
    "# Google Web Speech APIを用いて音声認識を行う\n",
    "# 認識言語を設定することができ、ここでは日本語（\"ja-JP\"）とする\n",
    "try:\n",
    "    print(\"認識結果:\" + r.recognize_google(audio, language=\"ja-JP\"))\n",
    "except sr.UnknownValueError:\n",
    "    print(\"認識エラー\")\n",
    "except sr.RequestError as e:\n",
    "    print(\"サーバエラー {0}\".format(e))"
   ]
  },
  {
   "cell_type": "markdown",
   "metadata": {},
   "source": [
    "## Step 2: 音声合成\n",
    "\n",
    "gttsというライブラリを使用します。このライブラリでは、Googleの音声合成サービスを利用して、音声ファイルを作成します。そして、作成された音声ファイルをpygameというライブラリを用いて再生します。"
   ]
  },
  {
   "cell_type": "code",
   "execution_count": 16,
   "metadata": {},
   "outputs": [
    {
     "name": "stdout",
     "output_type": "stream",
     "text": [
      "合成開始: 隣の客はよく柿食う客だ\n",
      "合成完了\n",
      "再生中\n",
      "再生終了\n"
     ]
    }
   ],
   "source": [
    "# ライブラリのインポート\n",
    "from gtts import gTTS\n",
    "import pygame\n",
    "\n",
    "# 合成したいテキストを設定\n",
    "text = \"隣の客はよく柿食う客だ\"\n",
    "\n",
    "# 音声合成を実行\n",
    "# 生成する言語を指定でき、ここでは日本語（\"ja\"）に設定\n",
    "print('合成開始: ' + text)\n",
    "speech = gTTS(text=text, lang=\"ja\")\n",
    "print('合成完了')\n",
    "\n",
    "# 生成した音声ファイルをmp3ファイルとして一時保存\n",
    "# この一連の処理を複数回実行する際に最後の解放処理を実行しないと（例えば、途中で処理を中断した場合）\n",
    "# エラーになることがあります。その場合はJupyter Notebookを再起動してください。\n",
    "try:\n",
    "    speech.save(\"./data/test.mp3\")\n",
    "except Exception as e:\n",
    "    print('ファイル保存エラー')\n",
    "    \n",
    "# 保存した音声ファイルを再生\n",
    "pygame.mixer.init()\n",
    "pygame.mixer.music.load(\"./data/test.mp3\")\n",
    "pygame.mixer.music.play()\n",
    "\n",
    "print('再生中')\n",
    "\n",
    "# 再生が完了するまて待機\n",
    "while pygame.mixer.music.get_busy():\n",
    "    pygame.time.Clock().tick(10)\n",
    "\n",
    "# ファイルを解放する\n",
    "pygame.mixer.music.stop()\n",
    "pygame.mixer.quit()\n",
    "\n",
    "print('再生終了')"
   ]
  },
  {
   "cell_type": "markdown",
   "metadata": {},
   "source": [
    "## Step 3: 言語理解\n",
    "\n",
    "正規表現を使用してルールベースのスロット値抽出を実装します。\n",
    "\n",
    "\n",
    "はじめに、抽出したいスロットについて、具体的な値とスロット名を定義します。"
   ]
  },
  {
   "cell_type": "code",
   "execution_count": 17,
   "metadata": {},
   "outputs": [
    {
     "name": "stdout",
     "output_type": "stream",
     "text": [
      "place : (京都|今出川)\n",
      "genre : (ラーメン|イタリアン|そば)\n",
      "name : (味亭|割烹井上)\n",
      "budget : (1000円以下|2000円以下|3000円以下)\n"
     ]
    }
   ],
   "source": [
    "#\n",
    "# 抽出したいスロットを正規表現として列挙\n",
    "# 正規表現：特定のパターンを記述するための文字列で、文字列内の特定の部分を検索、マッチング、抽出、置換などを行う。\n",
    "#\n",
    "\n",
    "# 例１：地名を OR 表現で列挙\n",
    "place = '(京都|今出川)'\n",
    "\n",
    "# 例２：料理のジャンルを OR 表現で列挙\n",
    "genre = '(ラーメン|イタリアン|そば)'\n",
    "\n",
    "# 例３：店名\n",
    "name = '(味亭|割烹井上)'\n",
    "\n",
    "# 例４：予算\n",
    "budget = '(1000円以下|2000円以下|3000円以下)'\n",
    "\n",
    "\n",
    "#\n",
    "# 次に、上記の各スロットにスロット名を付与し、リストとして表現\n",
    "# 例えば、地名のスロットは place というスロット名とする\n",
    "#\n",
    "\n",
    "def_slot = [\n",
    "    ['place', place],\n",
    "    ['genre', genre],\n",
    "    ['name', name],\n",
    "    ['budget', budget]\n",
    "]\n",
    "\n",
    "# 作成したリストの情報を表示\n",
    "for elem_slot in def_slot:\n",
    "    print(elem_slot[0] + ' : ' + elem_slot[1])"
   ]
  },
  {
   "cell_type": "markdown",
   "metadata": {},
   "source": [
    "次に、正規表現のライブラリを用いて入力文（発話文）とマッチングする関数を作成します。"
   ]
  },
  {
   "cell_type": "code",
   "execution_count": 18,
   "metadata": {},
   "outputs": [],
   "source": [
    "# 正規表現のライブラリを読み込む\n",
    "import re\n",
    "\n",
    "#\n",
    "# 入力文と各スロットをマッチングする関数\n",
    "#\n",
    "# 引数：\n",
    "#       input_sentence 入力発話文\n",
    "#       def_slot スロットの定義データ\n",
    "# 戻値：\n",
    "#       マッチしたスロットの名前と値を含む辞書のリスト\n",
    "#\n",
    "def matching_slu(input_sentence: str, list_def_slot: list) -> list:\n",
    "    \n",
    "    # マッチしたスロットの名前と値を格納するリスト\n",
    "    result_all = []\n",
    "    \n",
    "    # 各スロットの情報をfor文で取り出す\n",
    "    for def_slot in list_def_slot:\n",
    "        \n",
    "        # re.findallを用いて、入力発話文がそのスロットを含むかマッチング\n",
    "        result = re.findall(def_slot[1], input_sentence)\n",
    "        \n",
    "        # 含まれていたら対応するスロットの名前と値を抽出する\n",
    "        if len(result) >= 1:\n",
    "            \n",
    "            # 複数マッチする場合に対応\n",
    "            for r in result:\n",
    "                \n",
    "                # スロット名\n",
    "                slot_name = def_slot[0]\n",
    "                \n",
    "                # スロット値\n",
    "                slot_value = r\n",
    "                \n",
    "                result_all.append({'slot_name': slot_name, 'slot_value': slot_value})\n",
    "    \n",
    "    return result_all"
   ]
  },
  {
   "cell_type": "markdown",
   "metadata": {},
   "source": [
    "作成した関数をテストします。ここでは、テスト用のデータを読み込んでみて、それを作成した関数に入力します。"
   ]
  },
  {
   "cell_type": "code",
   "execution_count": 19,
   "metadata": {},
   "outputs": [
    {
     "name": "stdout",
     "output_type": "stream",
     "text": [
      "入力：京都のおいしいラーメンを教えてください\n",
      "place: 京都\n",
      "genre: ラーメン\n",
      "\n",
      "入力：今出川の近くでイタリアンはありますか\n",
      "place: 今出川\n",
      "genre: イタリアン\n",
      "\n",
      "入力：味亭の営業時間を教えて\n",
      "name: 味亭\n",
      "\n",
      "入力：割烹井上は何時から開いていますか\n",
      "name: 割烹井上\n",
      "\n",
      "入力：近くにおいしいそば屋はありますか\n",
      "genre: そば\n",
      "\n",
      "入力：京都で2000円以下のおいしいイタリアンはありますか\n",
      "place: 京都\n",
      "genre: イタリアン\n",
      "budget: 2000円以下\n",
      "\n"
     ]
    }
   ],
   "source": [
    "# テスト入力データを設定する\n",
    "list_input_data = [\n",
    "    \"京都のおいしいラーメンを教えてください\",\n",
    "    \"今出川の近くでイタリアンはありますか\",\n",
    "    \"味亭の営業時間を教えて\",\n",
    "    \"割烹井上は何時から開いていますか\",\n",
    "    \"近くにおいしいそば屋はありますか\",\n",
    "    \"京都で2000円以下のおいしいイタリアンはありますか\"\n",
    "]\n",
    "\n",
    "# 入力データを作成した関数を用いてマッチするか判定する\n",
    "for input_data in list_input_data:\n",
    "    \n",
    "    print('入力：' + input_data)\n",
    "    \n",
    "    # 判定する関数を呼び出す\n",
    "    slu_result = matching_slu(input_data, def_slot)\n",
    "    \n",
    "    # 戻り値に応じて抽出した要素を表示\n",
    "    if len(slu_result) == 0:\n",
    "        print('抽出スロットなし')\n",
    "    \n",
    "    else:\n",
    "        for s in slu_result:\n",
    "            print('{}: {}'.format(s['slot_name'], s['slot_value']))\n",
    "    \n",
    "    print()"
   ]
  },
  {
   "cell_type": "markdown",
   "metadata": {},
   "source": [
    "## Step 4: 対話管理\n",
    "\n",
    "下図のような状態遷移モデルを実装します。\n",
    "このような状態遷移を実装するには、まずは状態と遷移の情報を記述し、それをもとにユーザ発話の情報に応じて状態を制御する部分を作成します。\n",
    "下図において、状態はシステム発話に、遷移はユーザ発話にそれぞれ対応します。\n",
    "\n",
    "<img src=\"./img/automaton.png\" style=\"width: 800px;\"/>"
   ]
  },
  {
   "cell_type": "markdown",
   "metadata": {},
   "source": [
    "まずは、状態を定義します。\n",
    "\n",
    "状態番号は下記とします。\n",
    "- 図中の左側について、上から順に０～３\n",
    "- 図中の右側について、上から順に４～６"
   ]
  },
  {
   "cell_type": "code",
   "execution_count": 20,
   "metadata": {},
   "outputs": [],
   "source": [
    "# 状態を定義\n",
    "# 状態番号、対応するシステム発話\n",
    "STATES = [\n",
    "    [0, 'こんにちは。京都レストラン案内です。どの地域のレストランをお探しですか。'],\n",
    "    [1, 'どのような料理がお好みですか。'],\n",
    "    [2, 'ご予算はおいくらぐらいですか。'],\n",
    "    [3, '検索します。'],\n",
    "    [4, '地域名を「京都駅近辺」のようにおっしゃってください。'],\n",
    "    [5, '和食・洋食・中華・ファストフードからお選びください。'],\n",
    "    [6, '予算を「3000円以下」のようにおっしゃってください。']    \n",
    "]\n",
    "\n",
    "# 開始状態の状態番号\n",
    "START_STATE = 0\n",
    "\n",
    "# 終了状態の状態番号\n",
    "END_STATE = 3"
   ]
  },
  {
   "cell_type": "markdown",
   "metadata": {},
   "source": [
    "次に、遷移を定義します。遷移元と遷移先の状態番号、条件となるユーザ発話の情報で構成します。ユーザ発話の情報は、ここでは言語理解で設計したスロット名（place や genre など）にします。また、後で実装しますが、スロット値は変数として保存しておきます。また、遷移条件の「None」はそれより上の条件にマッチしなかった場合の「それ以外の入力」に相当します。"
   ]
  },
  {
   "cell_type": "code",
   "execution_count": 21,
   "metadata": {},
   "outputs": [],
   "source": [
    "# 遷移を定義\n",
    "# 遷移元状態番号、遷移先状態番号、遷移条件（スロット名）\n",
    "TRANS = [\n",
    "    [0, 1, 'place'],\n",
    "    [0, 4, None],\n",
    "    [1, 2, 'genre'],\n",
    "    [1, 5, None],\n",
    "    [2, 3, 'budget'],\n",
    "    [2, 6, None],\n",
    "    [4, 1, 'place'],\n",
    "    [4, 4, None],\n",
    "    [5, 2, 'genre'],\n",
    "    [5, 5, None],\n",
    "    [6, 3, 'budget'],\n",
    "    [6, 6, None]\n",
    "]"
   ]
  },
  {
   "cell_type": "markdown",
   "metadata": {},
   "source": [
    "では、定義した状態と遷移に基づいて対話を制御します。内部変数として、現在の状態番号を保持し、入力であるユーザ発話に応じてシステム発話を出力し、状態を遷移させます。この処理では内部変数を保持する必要があるので、全体をクラス化します。"
   ]
  },
  {
   "cell_type": "code",
   "execution_count": 22,
   "metadata": {},
   "outputs": [],
   "source": [
    "# 対話管理を行うクラス\n",
    "class DialogManager:\n",
    "\n",
    "    current_state: int              # 現在の状態\n",
    "    context_user_utterance: dict    # 遷移条件にマッチしたユーザ発話の情報を保持する辞書（対話によって得られた情報）\n",
    "\n",
    "    # コンストラクタ（クラスのインスタンスを初期化したときに呼ばれる特殊なメソッド）\n",
    "    def __init__(self):\n",
    "\n",
    "        # 内部状態などを初期化\n",
    "        self.reset()\n",
    "\n",
    "    # 入力であるユーザ発話に応じてシステム発話を出力し、内部状態を遷移させる\n",
    "    # ただし、ユーザ発話の情報は「意図、スロット名、スロット値」のlistとする\n",
    "    def enter(self, user_utterance):\n",
    "        \n",
    "        # フレーム名に対して行う\n",
    "        # 最初の0番目のindexは1発話に対して複数のスロットが抽出された場合に対応するため\n",
    "        # ここでは1発話につき１つのフレームしか含まれないという前提\n",
    "        if len(user_utterance) > 0:\n",
    "            input_slot_name = user_utterance[0]['slot_name']\n",
    "            input_slot_value = user_utterance[0]['slot_value']\n",
    "        else:\n",
    "            # スロットが抽出されなかった場合\n",
    "            input_slot_name = None\n",
    "            input_slot_value = None\n",
    "        \n",
    "        system_utterance = \"\"\n",
    "        \n",
    "        # 現在の状態からの遷移に対して入力がマッチするか検索\n",
    "        for trans in TRANS:\n",
    "            \n",
    "            # 条件の遷移元が現在の状態か\n",
    "            if trans[0] == self.current_state:\n",
    "                \n",
    "                # 無条件に遷移\n",
    "                if trans[2] is None:\n",
    "                    self.current_state = trans[1]\n",
    "                    system_utterance = self.get_system_utterance()\n",
    "                    break\n",
    "                \n",
    "                # 条件にマッチすれば遷移\n",
    "                if trans[2] == input_slot_name:\n",
    "\n",
    "                    # 遷移条件にマッチしたユーザ発話の情報を保持する辞書に格納\n",
    "                    self.context_user_utterance[input_slot_name] = input_slot_value\n",
    "                    \n",
    "                    self.current_state = trans[1]\n",
    "                    system_utterance = self.get_system_utterance()\n",
    "                    break\n",
    "        \n",
    "        return system_utterance\n",
    "\n",
    "    # 初期状態にリセットする\n",
    "    def reset(self):\n",
    "\n",
    "        # 内部状態を初期状態にする\n",
    "        self.current_state = START_STATE\n",
    "\n",
    "        # 遷移条件にマッチしたユーザ発話の情報を保持する辞書を初期化\n",
    "        self.context_user_utterance = {}\n",
    "\n",
    "\n",
    "    # 指定された状態に対応するシステムの発話を取得\n",
    "    def get_system_utterance(self):\n",
    "        \n",
    "        utterance = \"\"\n",
    "        \n",
    "        for state_ in STATES:\n",
    "            if self.current_state == state_[0]:\n",
    "                utterance = state_[1]\n",
    "        \n",
    "        return utterance"
   ]
  },
  {
   "cell_type": "markdown",
   "metadata": {},
   "source": [
    "実装した対話管理をテストしましょう。"
   ]
  },
  {
   "cell_type": "code",
   "execution_count": 23,
   "metadata": {},
   "outputs": [
    {
     "name": "stdout",
     "output_type": "stream",
     "text": [
      "システム発話 : こんにちは。京都レストラン案内です。どの地域のレストランをお探しですか。\n"
     ]
    }
   ],
   "source": [
    "# 初期化\n",
    "dm = DialogManager()\n",
    "dm.reset()\n",
    "\n",
    "# 初期状態の発話を表示\n",
    "print(\"システム発話 : \" + dm.get_system_utterance())"
   ]
  },
  {
   "cell_type": "code",
   "execution_count": 24,
   "metadata": {},
   "outputs": [
    {
     "name": "stdout",
     "output_type": "stream",
     "text": [
      "ユーザ発話\n",
      "[{'slot_name': 'place', 'slot_value': '京都駅周辺'}]\n",
      "\n",
      "システム発話\n",
      "どのような料理がお好みですか。\n"
     ]
    }
   ],
   "source": [
    "# ユーザ発話を設定\n",
    "user_utterance = [{'slot_name': 'place', 'slot_value': '京都駅周辺'}]\n",
    "print('ユーザ発話')\n",
    "print(user_utterance)\n",
    "\n",
    "print()\n",
    "\n",
    "# 次のシステム発話を表示\n",
    "print('システム発話')\n",
    "print(dm.enter(user_utterance))"
   ]
  },
  {
   "cell_type": "code",
   "execution_count": 25,
   "metadata": {},
   "outputs": [
    {
     "name": "stdout",
     "output_type": "stream",
     "text": [
      "ユーザ発話\n",
      "[{'slot_name': 'place', 'slot_value': '新宿'}]\n",
      "\n",
      "システム発話\n",
      "和食・洋食・中華・ファストフードからお選びください。\n"
     ]
    }
   ],
   "source": [
    "# 想定外の発話を入力してみる\n",
    "\n",
    "# ユーザ発話を設定\n",
    "user_utterance = [{'slot_name': 'place', 'slot_value': '新宿'}]\n",
    "print('ユーザ発話')\n",
    "print(user_utterance)\n",
    "print()\n",
    "\n",
    "# 次のシステム発話を表示\n",
    "print('システム発話')\n",
    "print(dm.enter(user_utterance))"
   ]
  },
  {
   "cell_type": "code",
   "execution_count": 26,
   "metadata": {},
   "outputs": [
    {
     "name": "stdout",
     "output_type": "stream",
     "text": [
      "ユーザ発話\n",
      "[{'slot_name': 'genre', 'slot_value': '和食'}]\n",
      "\n",
      "システム発話\n",
      "ご予算はおいくらぐらいですか。\n"
     ]
    }
   ],
   "source": [
    "# ユーザ発話を設定\n",
    "user_utterance = [{'slot_name': 'genre', 'slot_value': '和食'}]\n",
    "print('ユーザ発話')\n",
    "print(user_utterance)\n",
    "print()\n",
    "\n",
    "# 次のシステム発話を表示\n",
    "print('システム発話')\n",
    "print(dm.enter(user_utterance))"
   ]
  },
  {
   "cell_type": "code",
   "execution_count": 27,
   "metadata": {},
   "outputs": [
    {
     "name": "stdout",
     "output_type": "stream",
     "text": [
      "ユーザ発話\n",
      "[{'slot_name': 'budget', 'slot_value': '3000円以下'}]\n",
      "\n",
      "システム発話\n",
      "検索します。\n",
      "対話によって得られた情報\n",
      "場所：京都駅周辺\n",
      "ジャンル：和食\n",
      "予算：3000円以下\n"
     ]
    }
   ],
   "source": [
    "# ユーザ発話を設定\n",
    "user_utterance = [{'slot_name': 'budget', 'slot_value': '3000円以下'}]\n",
    "print('ユーザ発話')\n",
    "print(user_utterance)\n",
    "print()\n",
    "\n",
    "# 次のシステム発話を表示\n",
    "print('システム発話')\n",
    "print(dm.enter(user_utterance))\n",
    "\n",
    "# 得られた一連のユーザ発話の情報を表示\n",
    "print('対話によって得られた情報')\n",
    "print('場所：' + dm.context_user_utterance['place'])\n",
    "print('ジャンル：' + dm.context_user_utterance['genre'])\n",
    "print('予算：' + dm.context_user_utterance['budget'])"
   ]
  },
  {
   "cell_type": "markdown",
   "metadata": {},
   "source": [
    "## Step 5: システム統合\n",
    "\n",
    "ここまで実装してきた各モジュールを統合し、音声対話システムとして動作するようにします。\n",
    "\n",
    "まず、はじめに音声認識と音声合成のモジュールを呼び出しやすく関数化しておきます。"
   ]
  },
  {
   "cell_type": "code",
   "execution_count": 28,
   "metadata": {},
   "outputs": [],
   "source": [
    "# 音声認識を関数化\n",
    "def get_asr():\n",
    "    \n",
    "    r = sr.Recognizer()\n",
    "    r.pause_threshold = 0.5\n",
    "    \n",
    "    with sr.Microphone() as source:\n",
    "        r.adjust_for_ambient_noise(source) # 背景雑音へ適応する（１秒間）\n",
    "        print(\"どうぞ話してください >> \")\n",
    "        audio = r.listen(source)\n",
    "    \n",
    "    try:\n",
    "        result = r.recognize_google(audio, language=\"ja-JP\")\n",
    "    except sr.UnknownValueError:\n",
    "        result = \"\"\n",
    "    except sr.RequestError as e:\n",
    "        result = \"\"\n",
    "    \n",
    "    return result\n",
    "\n",
    "# 音声合成を関数化\n",
    "def play_tts(text):\n",
    "    \n",
    "    speech = gTTS(text=text, lang=\"ja\")\n",
    "\n",
    "    try:\n",
    "        speech.save(\"./data/test.mp3\")\n",
    "    except Exception as e:\n",
    "        print('ファイル保存エラー')\n",
    "    \n",
    "    pygame.mixer.init()\n",
    "    pygame.mixer.music.load(\"./data/test.mp3\")\n",
    "    pygame.mixer.music.play()\n",
    "\n",
    "    while pygame.mixer.music.get_busy():\n",
    "        pygame.time.Clock().tick(10)\n",
    "\n",
    "    pygame.mixer.music.stop()\n",
    "    pygame.mixer.quit()"
   ]
  },
  {
   "cell_type": "markdown",
   "metadata": {},
   "source": [
    "そして、言語理解と対話管理を順に呼び出すことで対話を進めます。"
   ]
  },
  {
   "cell_type": "code",
   "execution_count": 31,
   "metadata": {},
   "outputs": [
    {
     "name": "stdout",
     "output_type": "stream",
     "text": [
      "システム： こんにちは。京都レストラン案内です。どの地域のレストランをお探しですか。\n",
      "どうぞ話してください >> \n",
      "ユーザ： 最近では 今出川です\n",
      "[{'slot_name': 'place', 'slot_value': '今出川'}]\n",
      "システム： どのような料理がお好みですか。\n",
      "\n",
      "どうぞ話してください >> \n",
      "ユーザ： 僕が好きなのは イタリアンです\n",
      "[{'slot_name': 'genre', 'slot_value': 'イタリアン'}]\n",
      "システム： ご予算はおいくらぐらいですか。\n",
      "\n",
      "どうぞ話してください >> \n",
      "ユーザ： は\n",
      "[]\n",
      "システム： 予算を「3000円以下」のようにおっしゃってください。\n",
      "\n",
      "どうぞ話してください >> \n",
      "ユーザ： 金欠なので1000円以下で\n",
      "[{'slot_name': 'budget', 'slot_value': '1000円以下'}]\n",
      "システム： 検索します。\n",
      "\n",
      "対話終了\n",
      "対話によって得られた情報\n",
      "場所：今出川\n",
      "ジャンル：イタリアン\n",
      "予算：1000円以下\n"
     ]
    }
   ],
   "source": [
    "# 対話管理を初期化\n",
    "dm = DialogManager()\n",
    "\n",
    "# 初期状態の発話\n",
    "system_utterance = dm.get_system_utterance()\n",
    "print(\"システム： \" + system_utterance)\n",
    "\n",
    "# 音声合成\n",
    "play_tts(system_utterance)\n",
    "\n",
    "# 対話が終了状態に移るまで対話を続ける\n",
    "while dm.current_state != END_STATE:\n",
    "    \n",
    "    # 音声入力＆音声認識\n",
    "    result_asr_utterance = get_asr()\n",
    "    print(\"ユーザ： \" + result_asr_utterance)\n",
    "    \n",
    "    # 言語理解\n",
    "    result_slu = matching_slu(result_asr_utterance, def_slot)\n",
    "    print(result_slu)\n",
    "    \n",
    "    # 対話管理へ入力\n",
    "    system_utterance = dm.enter(result_slu)\n",
    "    print(\"システム： \" + system_utterance)\n",
    "    play_tts(system_utterance)\n",
    "    \n",
    "    print()\n",
    "\n",
    "# 対話終了\n",
    "print(\"対話終了\")\n",
    "\n",
    "# 得られた一連のユーザ発話の情報を表示\n",
    "print('対話によって得られた情報')\n",
    "print('場所：' + dm.context_user_utterance['place'])\n",
    "print('ジャンル：' + dm.context_user_utterance['genre'])\n",
    "print('予算：' + dm.context_user_utterance['budget'])"
   ]
  }
 ],
 "metadata": {
  "kernelspec": {
   "display_name": "Python 3 (ipykernel)",
   "language": "python",
   "name": "python3"
  },
  "language_info": {
   "codemirror_mode": {
    "name": "ipython",
    "version": 3
   },
   "file_extension": ".py",
   "mimetype": "text/x-python",
   "name": "python",
   "nbconvert_exporter": "python",
   "pygments_lexer": "ipython3",
   "version": "3.9.6"
  }
 },
 "nbformat": 4,
 "nbformat_minor": 2
}
